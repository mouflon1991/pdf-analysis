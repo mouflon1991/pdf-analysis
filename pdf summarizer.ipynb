{
 "cells": [
  {
   "cell_type": "code",
   "execution_count": 9,
   "id": "161ed20c",
   "metadata": {},
   "outputs": [],
   "source": [
    "from gensim.summarization import summarize\n",
    "import warnings\n",
    "warnings.filterwarnings(\"ignore\")\n",
    "import PyPDF2\n",
    "import os\n",
    "import textract"
   ]
  },
  {
   "cell_type": "code",
   "execution_count": 10,
   "id": "50d914bd",
   "metadata": {},
   "outputs": [
    {
     "name": "stdout",
     "output_type": "stream",
     "text": [
      "What is the name of the PDF?\n",
      "(Without .pdf file extension)\n",
      "C:/Users/PKyri/.jupyter/SpaceApp/19810022822\n"
     ]
    }
   ],
   "source": [
    "print(\"What is the name of the PDF?\")\n",
    "fileName = input(\"(Without .pdf file extension)\\n\")\n",
    "pdfFileName = fileName + \".pdf\""
   ]
  },
  {
   "cell_type": "code",
   "execution_count": 15,
   "id": "c78b6986",
   "metadata": {},
   "outputs": [],
   "source": [
    "open_filename=open(pdfFileName,'rb')\n",
    "pdfreader=PyPDF2.PdfFileReader(open_filename, strict=False)\n",
    "num_pages = pdfreader.numPages"
   ]
  },
  {
   "cell_type": "code",
   "execution_count": 16,
   "id": "d5aba149",
   "metadata": {
    "scrolled": true
   },
   "outputs": [],
   "source": [
    "count = 0\n",
    "text = \"\"\n",
    "                                                            \n",
    "while count < num_pages:                       #The while loop will read each page\n",
    "    pageObj = pdfreader.getPage(count)\n",
    "    count +=1\n",
    "    text += pageObj.extractText()"
   ]
  },
  {
   "cell_type": "code",
   "execution_count": 17,
   "id": "a34cdc35",
   "metadata": {},
   "outputs": [],
   "source": [
    "if text != \"\":\n",
    "    text = text\n",
    "    \n",
    "else:\n",
    "    text = textract.process(pdfreader, method='tesseract', language='eng')"
   ]
  },
  {
   "cell_type": "code",
   "execution_count": 21,
   "id": "4a8b26b9",
   "metadata": {},
   "outputs": [
    {
     "name": "stdout",
     "output_type": "stream",
     "text": [
      "This project was initiated to investigate the utility and thermal control coating performance of methyl silicone resins of the type ideally represented by Structure \n",
      "The scope of this project was to develop readily hydrolyzable monomers or oligomers with appropriate functionality to result in laddered methyl silicone polymers, and to evaluate these as binders for UV-resistant thermal control coatings.\n",
      "It was initially believed that stoichiometric ratios of H20 (3 mol-equivalents of H20/ mol-equivalent of MTES) would lead to premature crosslinking and subsequent solubility problems for the hydrolysate, as well as embrittled coatings after cure, For this reason the range of 2 to 3 mol-equivalents of water was assessed first.\n"
     ]
    }
   ],
   "source": [
    "print(summarize(text,word_count=100))"
   ]
  },
  {
   "cell_type": "code",
   "execution_count": null,
   "id": "b3cc64b5",
   "metadata": {},
   "outputs": [],
   "source": []
  },
  {
   "cell_type": "code",
   "execution_count": null,
   "id": "25f8e5bc",
   "metadata": {},
   "outputs": [],
   "source": []
  },
  {
   "cell_type": "code",
   "execution_count": null,
   "id": "e3dd1247",
   "metadata": {},
   "outputs": [],
   "source": []
  }
 ],
 "metadata": {
  "kernelspec": {
   "display_name": "Python 3",
   "language": "python",
   "name": "python3"
  },
  "language_info": {
   "codemirror_mode": {
    "name": "ipython",
    "version": 3
   },
   "file_extension": ".py",
   "mimetype": "text/x-python",
   "name": "python",
   "nbconvert_exporter": "python",
   "pygments_lexer": "ipython3",
   "version": "3.8.8"
  }
 },
 "nbformat": 4,
 "nbformat_minor": 5
}
