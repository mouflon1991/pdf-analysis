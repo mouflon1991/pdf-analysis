{
 "cells": [
  {
   "cell_type": "code",
   "execution_count": 1,
   "id": "c7c33261",
   "metadata": {},
   "outputs": [
    {
     "name": "stdout",
     "output_type": "stream",
     "text": [
      "What is the name of the PDF?\n",
      "(Without .pdf file extension)\n",
      "C:/Users/PKyri/.jupyter/SpaceApp/19810022822\n"
     ]
    }
   ],
   "source": [
    "import PyPDF2\n",
    "import warnings\n",
    "warnings.filterwarnings('ignore',category=DeprecationWarning)\n",
    "\n",
    "print(\"What is the name of the PDF?\")\n",
    "fileName = input(\"(Without .pdf file extension)\\n\")\n",
    "pdfFileName = fileName + \".pdf\""
   ]
  },
  {
   "cell_type": "code",
   "execution_count": 2,
   "id": "fdd537aa",
   "metadata": {},
   "outputs": [],
   "source": [
    "open_filename=open(pdfFileName,'rb')\n",
    "pdfFileName=PyPDF2.PdfFileReader(open_filename, strict=False)"
   ]
  },
  {
   "cell_type": "code",
   "execution_count": 3,
   "id": "e1d95a19",
   "metadata": {},
   "outputs": [
    {
     "data": {
      "text/plain": [
       "{'/ModDate': \"D:20020312095551-07'00'\",\n",
       " '/CreationDate': \"D:20020312095339-07'00'\",\n",
       " '/Producer': 'Adobe PDF Library 4.0',\n",
       " '/Creator': 'VSIL - AFRL Digitizing Team',\n",
       " '/Style': 'Searchable Image (Exact)',\n",
       " '/Author': 'Patterson, W.J.',\n",
       " '/Date': '1981-08-01',\n",
       " '/Title': 'Development of a silane-hydrolysate binder of UV-resistant thermal control coatings',\n",
       " '/Subject': 'Doc Name: NASA-TP-1900',\n",
       " '/Keywords': 'Barcode: 0134924'}"
      ]
     },
     "execution_count": 3,
     "metadata": {},
     "output_type": "execute_result"
    }
   ],
   "source": [
    "pdfFileName.getDocumentInfo()"
   ]
  },
  {
   "cell_type": "code",
   "execution_count": null,
   "id": "4b2ac76e",
   "metadata": {},
   "outputs": [],
   "source": []
  }
 ],
 "metadata": {
  "kernelspec": {
   "display_name": "Python 3",
   "language": "python",
   "name": "python3"
  },
  "language_info": {
   "codemirror_mode": {
    "name": "ipython",
    "version": 3
   },
   "file_extension": ".py",
   "mimetype": "text/x-python",
   "name": "python",
   "nbconvert_exporter": "python",
   "pygments_lexer": "ipython3",
   "version": "3.8.8"
  }
 },
 "nbformat": 4,
 "nbformat_minor": 5
}
